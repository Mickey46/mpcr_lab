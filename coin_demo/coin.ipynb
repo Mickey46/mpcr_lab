import html
from microdot_asyncio import Microdot, Response
app = Microdot()

def htmldoc():
  coin_text = 'Heads' if coin_state == 0 else 'Tails'

  html = f'''
      <html>
          <head>
              <title>Click to flip Coin</title>
          </head>
          <body>
              <div>
                  <h1>Click the Coin to Flip</h1>
                  <svg width="200" height="200" viewbox="0 0 200 200">
                      <a href="/toggle">
                          <circle style="fill:#F0E68C" cx="100" cy="100" r="90"/>
                          <text x="50%" font-size="24" text-anchor="middle" dy=".3em">{coin_text}</text>
                      </a>
                  </svg>
              </div>
          </body>
      </html>
      '''

  return html

coin_state=0

@app.route('/')
def home(request):
  global coin_state
  coin_state= np.random.randint(2)
  return htmldoc()

@app.route('/toggle')
def toggle_coin(request):
  global coin_state
  # coin_state = 1 - coin_state
  oin_state= np.random.randint(2)
  return htmldoc()

app.run(debug=True, port=8008)
